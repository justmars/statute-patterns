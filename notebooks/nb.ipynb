{
 "cells": [
  {
   "cell_type": "code",
   "execution_count": 1,
   "metadata": {},
   "outputs": [],
   "source": [
    "%load_ext rich\n",
    "from pathlib import Path\n",
    "from statute_patterns import Rule, StatuteSerialCategory, StatuteDetails\n",
    "from statute_patterns.components import STATUTE_PATH"
   ]
  },
  {
   "cell_type": "code",
   "execution_count": 2,
   "metadata": {},
   "outputs": [],
   "source": [
    "test_stat_path = Path().cwd().joinpath(\"tests/data/statutes\")"
   ]
  },
  {
   "cell_type": "code",
   "execution_count": 3,
   "metadata": {},
   "outputs": [],
   "source": [
    "main_stat_path = Path().home().joinpath(\"code/corpus/statutes\")"
   ]
  },
  {
   "cell_type": "code",
   "execution_count": 4,
   "metadata": {},
   "outputs": [],
   "source": [
    "t = test_stat_path / \"ra\" / \"11716x\" / \"details.yaml\""
   ]
  },
  {
   "cell_type": "code",
   "execution_count": 5,
   "metadata": {},
   "outputs": [],
   "source": [
    "x = Rule.get_details(t)"
   ]
  },
  {
   "cell_type": "code",
   "execution_count": 6,
   "metadata": {},
   "outputs": [
    {
     "data": {
      "text/html": [
       "<pre style=\"white-space:pre;overflow-x:auto;line-height:normal;font-family:Menlo,'DejaVu Sans Mono',consolas,'Courier New',monospace\">\n",
       "<span style=\"color: #800080; text-decoration-color: #800080; font-weight: bold\">StatuteDetails</span><span style=\"font-weight: bold\">(</span>\n",
       "    <span style=\"color: #808000; text-decoration-color: #808000\">created</span>=<span style=\"color: #008080; text-decoration-color: #008080; font-weight: bold\">1667964524.5145457</span>,\n",
       "    <span style=\"color: #808000; text-decoration-color: #808000\">modified</span>=<span style=\"color: #008080; text-decoration-color: #008080; font-weight: bold\">1667964524.5143151</span>,\n",
       "    <span style=\"color: #808000; text-decoration-color: #808000\">rule</span>=<span style=\"color: #800080; text-decoration-color: #800080; font-weight: bold\">Rule</span><span style=\"font-weight: bold\">(</span><span style=\"color: #808000; text-decoration-color: #808000\">cat</span>=<span style=\"color: #008000; text-decoration-color: #008000\">'ra'</span>, <span style=\"color: #808000; text-decoration-color: #808000\">id</span>=<span style=\"color: #008000; text-decoration-color: #008000\">'11716x'</span><span style=\"font-weight: bold\">)</span>,\n",
       "    <span style=\"color: #808000; text-decoration-color: #808000\">title</span>=<span style=\"color: #008000; text-decoration-color: #008000\">'An Act Increasing The Bed Capacity Of The Northern Mindanao Medical Center In Cagayan De Oro City, Amending For The Purpose Republic Act No. 7938, As Amended By Republic Act No. 10677, And Appropriating Funds Therefor'</span>,\n",
       "    <span style=\"color: #808000; text-decoration-color: #808000\">description</span>=<span style=\"color: #008000; text-decoration-color: #008000\">'Republic Act No. 11716x'</span>,\n",
       "    <span style=\"color: #808000; text-decoration-color: #808000\">id</span>=<span style=\"color: #008000; text-decoration-color: #008000\">'ra-11716x-april-29-2022'</span>,\n",
       "    <span style=\"color: #808000; text-decoration-color: #808000\">emails</span>=<span style=\"font-weight: bold\">[</span><span style=\"color: #008000; text-decoration-color: #008000\">'bot@lawsql.com'</span><span style=\"font-weight: bold\">]</span>,\n",
       "    <span style=\"color: #808000; text-decoration-color: #808000\">date</span>=<span style=\"color: #800080; text-decoration-color: #800080; font-weight: bold\">datetime</span><span style=\"color: #800080; text-decoration-color: #800080; font-weight: bold\">.date</span><span style=\"font-weight: bold\">(</span><span style=\"color: #008080; text-decoration-color: #008080; font-weight: bold\">2022</span>, <span style=\"color: #008080; text-decoration-color: #008080; font-weight: bold\">4</span>, <span style=\"color: #008080; text-decoration-color: #008080; font-weight: bold\">29</span><span style=\"font-weight: bold\">)</span>,\n",
       "    <span style=\"color: #808000; text-decoration-color: #808000\">variant</span>=<span style=\"color: #008080; text-decoration-color: #008080; font-weight: bold\">1</span>,\n",
       "    <span style=\"color: #808000; text-decoration-color: #808000\">titles</span>=<span style=\"font-weight: bold\">[</span>\n",
       "        <span style=\"color: #800080; text-decoration-color: #800080; font-weight: bold\">StatuteTitle</span><span style=\"font-weight: bold\">(</span>\n",
       "            <span style=\"color: #808000; text-decoration-color: #808000\">statute_id</span>=<span style=\"color: #008000; text-decoration-color: #008000\">'ra-11716x-april-29-2022'</span>,\n",
       "            <span style=\"color: #808000; text-decoration-color: #808000\">category</span>=<span style=\"color: #008000; text-decoration-color: #008000\">'serial'</span>,\n",
       "            <span style=\"color: #808000; text-decoration-color: #808000\">text</span>=<span style=\"color: #008000; text-decoration-color: #008000\">'Republic Act No. 11716x'</span>\n",
       "        <span style=\"font-weight: bold\">)</span>,\n",
       "        <span style=\"color: #800080; text-decoration-color: #800080; font-weight: bold\">StatuteTitle</span><span style=\"font-weight: bold\">(</span>\n",
       "            <span style=\"color: #808000; text-decoration-color: #808000\">statute_id</span>=<span style=\"color: #008000; text-decoration-color: #008000\">'ra-11716x-april-29-2022'</span>,\n",
       "            <span style=\"color: #808000; text-decoration-color: #808000\">category</span>=<span style=\"color: #008000; text-decoration-color: #008000\">'official'</span>,\n",
       "            <span style=\"color: #808000; text-decoration-color: #808000\">text</span>=<span style=\"color: #008000; text-decoration-color: #008000\">'An Act Increasing The Bed Capacity Of The Northern Mindanao Medical Center In Cagayan De Oro City, Amending For The Purpose Republic Act No. 7938, As Amended By Republic Act No. 10677, And Appropriating Funds Therefor'</span>\n",
       "        <span style=\"font-weight: bold\">)</span>\n",
       "    <span style=\"font-weight: bold\">]</span>,\n",
       "    <span style=\"color: #808000; text-decoration-color: #808000\">units</span>=<span style=\"font-weight: bold\">[{</span><span style=\"color: #008000; text-decoration-color: #008000\">'item'</span>: <span style=\"color: #008000; text-decoration-color: #008000\">'Container 1'</span>, <span style=\"color: #008000; text-decoration-color: #008000\">'content'</span>: <span style=\"color: #008000; text-decoration-color: #008000\">'Appropriation laws are excluded.'</span><span style=\"font-weight: bold\">}]</span>\n",
       "<span style=\"font-weight: bold\">)</span>\n",
       "</pre>\n"
      ],
      "text/plain": [
       "\n",
       "\u001b[1;35mStatuteDetails\u001b[0m\u001b[1m(\u001b[0m\n",
       "    \u001b[33mcreated\u001b[0m=\u001b[1;36m1667964524\u001b[0m\u001b[1;36m.5145457\u001b[0m,\n",
       "    \u001b[33mmodified\u001b[0m=\u001b[1;36m1667964524\u001b[0m\u001b[1;36m.5143151\u001b[0m,\n",
       "    \u001b[33mrule\u001b[0m=\u001b[1;35mRule\u001b[0m\u001b[1m(\u001b[0m\u001b[33mcat\u001b[0m=\u001b[32m'ra'\u001b[0m, \u001b[33mid\u001b[0m=\u001b[32m'11716x'\u001b[0m\u001b[1m)\u001b[0m,\n",
       "    \u001b[33mtitle\u001b[0m=\u001b[32m'An Act Increasing The Bed Capacity Of The Northern Mindanao Medical Center In Cagayan De Oro City, Amending For The Purpose Republic Act No. 7938, As Amended By Republic Act No. 10677, And Appropriating Funds Therefor'\u001b[0m,\n",
       "    \u001b[33mdescription\u001b[0m=\u001b[32m'Republic Act No. 11716x'\u001b[0m,\n",
       "    \u001b[33mid\u001b[0m=\u001b[32m'ra-11716x-april-29-2022'\u001b[0m,\n",
       "    \u001b[33memails\u001b[0m=\u001b[1m[\u001b[0m\u001b[32m'bot@lawsql.com'\u001b[0m\u001b[1m]\u001b[0m,\n",
       "    \u001b[33mdate\u001b[0m=\u001b[1;35mdatetime\u001b[0m\u001b[1;35m.date\u001b[0m\u001b[1m(\u001b[0m\u001b[1;36m2022\u001b[0m, \u001b[1;36m4\u001b[0m, \u001b[1;36m29\u001b[0m\u001b[1m)\u001b[0m,\n",
       "    \u001b[33mvariant\u001b[0m=\u001b[1;36m1\u001b[0m,\n",
       "    \u001b[33mtitles\u001b[0m=\u001b[1m[\u001b[0m\n",
       "        \u001b[1;35mStatuteTitle\u001b[0m\u001b[1m(\u001b[0m\n",
       "            \u001b[33mstatute_id\u001b[0m=\u001b[32m'ra-11716x-april-29-2022'\u001b[0m,\n",
       "            \u001b[33mcategory\u001b[0m=\u001b[32m'serial'\u001b[0m,\n",
       "            \u001b[33mtext\u001b[0m=\u001b[32m'Republic Act No. 11716x'\u001b[0m\n",
       "        \u001b[1m)\u001b[0m,\n",
       "        \u001b[1;35mStatuteTitle\u001b[0m\u001b[1m(\u001b[0m\n",
       "            \u001b[33mstatute_id\u001b[0m=\u001b[32m'ra-11716x-april-29-2022'\u001b[0m,\n",
       "            \u001b[33mcategory\u001b[0m=\u001b[32m'official'\u001b[0m,\n",
       "            \u001b[33mtext\u001b[0m=\u001b[32m'An Act Increasing The Bed Capacity Of The Northern Mindanao Medical Center In Cagayan De Oro City, Amending For The Purpose Republic Act No. 7938, As Amended By Republic Act No. 10677, And Appropriating Funds Therefor'\u001b[0m\n",
       "        \u001b[1m)\u001b[0m\n",
       "    \u001b[1m]\u001b[0m,\n",
       "    \u001b[33munits\u001b[0m=\u001b[1m[\u001b[0m\u001b[1m{\u001b[0m\u001b[32m'item'\u001b[0m: \u001b[32m'Container 1'\u001b[0m, \u001b[32m'content'\u001b[0m: \u001b[32m'Appropriation laws are excluded.'\u001b[0m\u001b[1m}\u001b[0m\u001b[1m]\u001b[0m\n",
       "\u001b[1m)\u001b[0m\n"
      ]
     },
     "metadata": {},
     "output_type": "display_data"
    }
   ],
   "source": [
    "x"
   ]
  }
 ],
 "metadata": {
  "kernelspec": {
   "display_name": "Python 3.11.0 ('.venv': poetry)",
   "language": "python",
   "name": "python3"
  },
  "language_info": {
   "codemirror_mode": {
    "name": "ipython",
    "version": 3
   },
   "file_extension": ".py",
   "mimetype": "text/x-python",
   "name": "python",
   "nbconvert_exporter": "python",
   "pygments_lexer": "ipython3",
   "version": "3.11.0"
  },
  "orig_nbformat": 4,
  "vscode": {
   "interpreter": {
    "hash": "e5ec48e2e09a715a28261145eaf64b5a3ce5920fb590588b7f14d160491138cf"
   }
  }
 },
 "nbformat": 4,
 "nbformat_minor": 2
}
