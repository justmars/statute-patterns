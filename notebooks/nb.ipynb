{
 "cells": [
  {
   "cell_type": "code",
   "execution_count": 1,
   "metadata": {},
   "outputs": [],
   "source": [
    "%load_ext rich\n",
    "from pathlib import Path\n",
    "import yaml"
   ]
  },
  {
   "cell_type": "code",
   "execution_count": 2,
   "metadata": {},
   "outputs": [],
   "source": [
    "from statute_patterns import StatuteSerialCategory"
   ]
  },
  {
   "cell_type": "code",
   "execution_count": 3,
   "metadata": {},
   "outputs": [
    {
     "data": {
      "text/html": [
       "<pre style=\"white-space:pre;overflow-x:auto;line-height:normal;font-family:Menlo,'DejaVu Sans Mono',consolas,'Courier New',monospace\">\n",
       "<span style=\"font-weight: bold\">{</span>\n",
       "    <span style=\"color: #008000; text-decoration-color: #008000\">'RepublicAct'</span>: <span style=\"font-weight: bold\">&lt;</span><span style=\"color: #ff00ff; text-decoration-color: #ff00ff; font-weight: bold\">StatuteSerialCategory.RepublicAct:</span><span style=\"color: #000000; text-decoration-color: #000000\"> </span><span style=\"color: #008000; text-decoration-color: #008000\">'ra'</span><span style=\"font-weight: bold\">&gt;</span>,\n",
       "    <span style=\"color: #008000; text-decoration-color: #008000\">'CommonwealthAct'</span>: <span style=\"font-weight: bold\">&lt;</span><span style=\"color: #ff00ff; text-decoration-color: #ff00ff; font-weight: bold\">StatuteSerialCategory.CommonwealthAct:</span><span style=\"color: #000000; text-decoration-color: #000000\"> </span><span style=\"color: #008000; text-decoration-color: #008000\">'ca'</span><span style=\"font-weight: bold\">&gt;</span>,\n",
       "    <span style=\"color: #008000; text-decoration-color: #008000\">'Act'</span>: <span style=\"font-weight: bold\">&lt;</span><span style=\"color: #ff00ff; text-decoration-color: #ff00ff; font-weight: bold\">StatuteSerialCategory.Act:</span><span style=\"color: #000000; text-decoration-color: #000000\"> </span><span style=\"color: #008000; text-decoration-color: #008000\">'act'</span><span style=\"font-weight: bold\">&gt;</span>,\n",
       "    <span style=\"color: #008000; text-decoration-color: #008000\">'Constitution'</span>: <span style=\"font-weight: bold\">&lt;</span><span style=\"color: #ff00ff; text-decoration-color: #ff00ff; font-weight: bold\">StatuteSerialCategory.Constitution:</span><span style=\"color: #000000; text-decoration-color: #000000\"> </span><span style=\"color: #008000; text-decoration-color: #008000\">'const'</span><span style=\"font-weight: bold\">&gt;</span>,\n",
       "    <span style=\"color: #008000; text-decoration-color: #008000\">'Spain'</span>: <span style=\"font-weight: bold\">&lt;</span><span style=\"color: #ff00ff; text-decoration-color: #ff00ff; font-weight: bold\">StatuteSerialCategory.Spain:</span><span style=\"color: #000000; text-decoration-color: #000000\"> </span><span style=\"color: #008000; text-decoration-color: #008000\">'spain'</span><span style=\"font-weight: bold\">&gt;</span>,\n",
       "    <span style=\"color: #008000; text-decoration-color: #008000\">'BatasPambansa'</span>: <span style=\"font-weight: bold\">&lt;</span><span style=\"color: #ff00ff; text-decoration-color: #ff00ff; font-weight: bold\">StatuteSerialCategory.BatasPambansa:</span><span style=\"color: #000000; text-decoration-color: #000000\"> </span><span style=\"color: #008000; text-decoration-color: #008000\">'bp'</span><span style=\"font-weight: bold\">&gt;</span>,\n",
       "    <span style=\"color: #008000; text-decoration-color: #008000\">'PresidentialDecree'</span>: <span style=\"font-weight: bold\">&lt;</span><span style=\"color: #ff00ff; text-decoration-color: #ff00ff; font-weight: bold\">StatuteSerialCategory.PresidentialDecree:</span><span style=\"color: #000000; text-decoration-color: #000000\"> </span><span style=\"color: #008000; text-decoration-color: #008000\">'pd'</span><span style=\"font-weight: bold\">&gt;</span>,\n",
       "    <span style=\"color: #008000; text-decoration-color: #008000\">'ExecutiveOrder'</span>: <span style=\"font-weight: bold\">&lt;</span><span style=\"color: #ff00ff; text-decoration-color: #ff00ff; font-weight: bold\">StatuteSerialCategory.ExecutiveOrder:</span><span style=\"color: #000000; text-decoration-color: #000000\"> </span><span style=\"color: #008000; text-decoration-color: #008000\">'eo'</span><span style=\"font-weight: bold\">&gt;</span>,\n",
       "    <span style=\"color: #008000; text-decoration-color: #008000\">'LetterOfInstruction'</span>: <span style=\"font-weight: bold\">&lt;</span><span style=\"color: #ff00ff; text-decoration-color: #ff00ff; font-weight: bold\">StatuteSerialCategory.LetterOfInstruction:</span><span style=\"color: #000000; text-decoration-color: #000000\"> </span><span style=\"color: #008000; text-decoration-color: #008000\">'loi'</span><span style=\"font-weight: bold\">&gt;</span>,\n",
       "    <span style=\"color: #008000; text-decoration-color: #008000\">'VetoMessage'</span>: <span style=\"font-weight: bold\">&lt;</span><span style=\"color: #ff00ff; text-decoration-color: #ff00ff; font-weight: bold\">StatuteSerialCategory.VetoMessage:</span><span style=\"color: #000000; text-decoration-color: #000000\"> </span><span style=\"color: #008000; text-decoration-color: #008000\">'veto'</span><span style=\"font-weight: bold\">&gt;</span>,\n",
       "    <span style=\"color: #008000; text-decoration-color: #008000\">'RulesOfCourt'</span>: <span style=\"font-weight: bold\">&lt;</span><span style=\"color: #ff00ff; text-decoration-color: #ff00ff; font-weight: bold\">StatuteSerialCategory.RulesOfCourt:</span><span style=\"color: #000000; text-decoration-color: #000000\"> </span><span style=\"color: #008000; text-decoration-color: #008000\">'roc'</span><span style=\"font-weight: bold\">&gt;</span>,\n",
       "    <span style=\"color: #008000; text-decoration-color: #008000\">'BarMatter'</span>: <span style=\"font-weight: bold\">&lt;</span><span style=\"color: #ff00ff; text-decoration-color: #ff00ff; font-weight: bold\">StatuteSerialCategory.BarMatter:</span><span style=\"color: #000000; text-decoration-color: #000000\"> </span><span style=\"color: #008000; text-decoration-color: #008000\">'rule_bm'</span><span style=\"font-weight: bold\">&gt;</span>,\n",
       "    <span style=\"color: #008000; text-decoration-color: #008000\">'AdministrativeMatter'</span>: <span style=\"font-weight: bold\">&lt;</span><span style=\"color: #ff00ff; text-decoration-color: #ff00ff; font-weight: bold\">StatuteSerialCategory.AdministrativeMatter:</span><span style=\"color: #000000; text-decoration-color: #000000\"> </span><span style=\"color: #008000; text-decoration-color: #008000\">'rule_am'</span><span style=\"font-weight: bold\">&gt;</span>,\n",
       "    <span style=\"color: #008000; text-decoration-color: #008000\">'ResolutionEnBanc'</span>: <span style=\"font-weight: bold\">&lt;</span><span style=\"color: #ff00ff; text-decoration-color: #ff00ff; font-weight: bold\">StatuteSerialCategory.ResolutionEnBanc:</span><span style=\"color: #000000; text-decoration-color: #000000\"> </span><span style=\"color: #008000; text-decoration-color: #008000\">'rule_reso'</span><span style=\"font-weight: bold\">&gt;</span>,\n",
       "    <span style=\"color: #008000; text-decoration-color: #008000\">'CircularOCA'</span>: <span style=\"font-weight: bold\">&lt;</span><span style=\"color: #ff00ff; text-decoration-color: #ff00ff; font-weight: bold\">StatuteSerialCategory.CircularOCA:</span><span style=\"color: #000000; text-decoration-color: #000000\"> </span><span style=\"color: #008000; text-decoration-color: #008000\">'oca_cir'</span><span style=\"font-weight: bold\">&gt;</span>,\n",
       "    <span style=\"color: #008000; text-decoration-color: #008000\">'CircularSC'</span>: <span style=\"font-weight: bold\">&lt;</span><span style=\"color: #ff00ff; text-decoration-color: #ff00ff; font-weight: bold\">StatuteSerialCategory.CircularSC:</span><span style=\"color: #000000; text-decoration-color: #000000\"> </span><span style=\"color: #008000; text-decoration-color: #008000\">'sc_cir'</span><span style=\"font-weight: bold\">&gt;</span>\n",
       "<span style=\"font-weight: bold\">}</span>\n",
       "</pre>\n"
      ],
      "text/plain": [
       "\n",
       "\u001b[1m{\u001b[0m\n",
       "    \u001b[32m'RepublicAct'\u001b[0m: \u001b[1m<\u001b[0m\u001b[1;95mStatuteSerialCategory.RepublicAct:\u001b[0m\u001b[39m \u001b[0m\u001b[32m'ra'\u001b[0m\u001b[1m>\u001b[0m,\n",
       "    \u001b[32m'CommonwealthAct'\u001b[0m: \u001b[1m<\u001b[0m\u001b[1;95mStatuteSerialCategory.CommonwealthAct:\u001b[0m\u001b[39m \u001b[0m\u001b[32m'ca'\u001b[0m\u001b[1m>\u001b[0m,\n",
       "    \u001b[32m'Act'\u001b[0m: \u001b[1m<\u001b[0m\u001b[1;95mStatuteSerialCategory.Act:\u001b[0m\u001b[39m \u001b[0m\u001b[32m'act'\u001b[0m\u001b[1m>\u001b[0m,\n",
       "    \u001b[32m'Constitution'\u001b[0m: \u001b[1m<\u001b[0m\u001b[1;95mStatuteSerialCategory.Constitution:\u001b[0m\u001b[39m \u001b[0m\u001b[32m'const'\u001b[0m\u001b[1m>\u001b[0m,\n",
       "    \u001b[32m'Spain'\u001b[0m: \u001b[1m<\u001b[0m\u001b[1;95mStatuteSerialCategory.Spain:\u001b[0m\u001b[39m \u001b[0m\u001b[32m'spain'\u001b[0m\u001b[1m>\u001b[0m,\n",
       "    \u001b[32m'BatasPambansa'\u001b[0m: \u001b[1m<\u001b[0m\u001b[1;95mStatuteSerialCategory.BatasPambansa:\u001b[0m\u001b[39m \u001b[0m\u001b[32m'bp'\u001b[0m\u001b[1m>\u001b[0m,\n",
       "    \u001b[32m'PresidentialDecree'\u001b[0m: \u001b[1m<\u001b[0m\u001b[1;95mStatuteSerialCategory.PresidentialDecree:\u001b[0m\u001b[39m \u001b[0m\u001b[32m'pd'\u001b[0m\u001b[1m>\u001b[0m,\n",
       "    \u001b[32m'ExecutiveOrder'\u001b[0m: \u001b[1m<\u001b[0m\u001b[1;95mStatuteSerialCategory.ExecutiveOrder:\u001b[0m\u001b[39m \u001b[0m\u001b[32m'eo'\u001b[0m\u001b[1m>\u001b[0m,\n",
       "    \u001b[32m'LetterOfInstruction'\u001b[0m: \u001b[1m<\u001b[0m\u001b[1;95mStatuteSerialCategory.LetterOfInstruction:\u001b[0m\u001b[39m \u001b[0m\u001b[32m'loi'\u001b[0m\u001b[1m>\u001b[0m,\n",
       "    \u001b[32m'VetoMessage'\u001b[0m: \u001b[1m<\u001b[0m\u001b[1;95mStatuteSerialCategory.VetoMessage:\u001b[0m\u001b[39m \u001b[0m\u001b[32m'veto'\u001b[0m\u001b[1m>\u001b[0m,\n",
       "    \u001b[32m'RulesOfCourt'\u001b[0m: \u001b[1m<\u001b[0m\u001b[1;95mStatuteSerialCategory.RulesOfCourt:\u001b[0m\u001b[39m \u001b[0m\u001b[32m'roc'\u001b[0m\u001b[1m>\u001b[0m,\n",
       "    \u001b[32m'BarMatter'\u001b[0m: \u001b[1m<\u001b[0m\u001b[1;95mStatuteSerialCategory.BarMatter:\u001b[0m\u001b[39m \u001b[0m\u001b[32m'rule_bm'\u001b[0m\u001b[1m>\u001b[0m,\n",
       "    \u001b[32m'AdministrativeMatter'\u001b[0m: \u001b[1m<\u001b[0m\u001b[1;95mStatuteSerialCategory.AdministrativeMatter:\u001b[0m\u001b[39m \u001b[0m\u001b[32m'rule_am'\u001b[0m\u001b[1m>\u001b[0m,\n",
       "    \u001b[32m'ResolutionEnBanc'\u001b[0m: \u001b[1m<\u001b[0m\u001b[1;95mStatuteSerialCategory.ResolutionEnBanc:\u001b[0m\u001b[39m \u001b[0m\u001b[32m'rule_reso'\u001b[0m\u001b[1m>\u001b[0m,\n",
       "    \u001b[32m'CircularOCA'\u001b[0m: \u001b[1m<\u001b[0m\u001b[1;95mStatuteSerialCategory.CircularOCA:\u001b[0m\u001b[39m \u001b[0m\u001b[32m'oca_cir'\u001b[0m\u001b[1m>\u001b[0m,\n",
       "    \u001b[32m'CircularSC'\u001b[0m: \u001b[1m<\u001b[0m\u001b[1;95mStatuteSerialCategory.CircularSC:\u001b[0m\u001b[39m \u001b[0m\u001b[32m'sc_cir'\u001b[0m\u001b[1m>\u001b[0m\n",
       "\u001b[1m}\u001b[0m\n"
      ]
     },
     "metadata": {},
     "output_type": "display_data"
    }
   ],
   "source": [
    "StatuteSerialCategory._member_map_"
   ]
  },
  {
   "cell_type": "code",
   "execution_count": 4,
   "metadata": {},
   "outputs": [],
   "source": [
    "test_stat_path = Path().cwd().joinpath(\"tests/data/statutes\")"
   ]
  },
  {
   "cell_type": "code",
   "execution_count": 5,
   "metadata": {},
   "outputs": [],
   "source": [
    "main_stat_path = Path().home().joinpath(\"code/corpus/statutes\")"
   ]
  },
  {
   "cell_type": "code",
   "execution_count": 6,
   "metadata": {},
   "outputs": [],
   "source": [
    "t = main_stat_path / \"ra\" / \"381\" / \"details.yaml\""
   ]
  },
  {
   "cell_type": "code",
   "execution_count": 7,
   "metadata": {},
   "outputs": [],
   "source": [
    "from statute_patterns import Rule, StatuteSerialCategory, StatuteDetails\n",
    "from statute_patterns.components import STATUTE_PATH\n",
    "r = Rule(cat=StatuteSerialCategory(t.parent.parent.stem), id=t.parent.stem)"
   ]
  },
  {
   "cell_type": "code",
   "execution_count": 8,
   "metadata": {},
   "outputs": [
    {
     "data": {
      "text/html": [
       "<pre style=\"white-space:pre;overflow-x:auto;line-height:normal;font-family:Menlo,'DejaVu Sans Mono',consolas,'Courier New',monospace\">\n",
       "<span style=\"color: #800080; text-decoration-color: #800080; font-weight: bold\">StatuteDetails</span><span style=\"font-weight: bold\">(</span>\n",
       "    <span style=\"color: #808000; text-decoration-color: #808000\">created</span>=<span style=\"color: #008080; text-decoration-color: #008080; font-weight: bold\">1663728655.7357123</span>,\n",
       "    <span style=\"color: #808000; text-decoration-color: #808000\">modified</span>=<span style=\"color: #008080; text-decoration-color: #008080; font-weight: bold\">1663728655.7357123</span>,\n",
       "    <span style=\"color: #808000; text-decoration-color: #808000\">title</span>=<span style=\"color: #008000; text-decoration-color: #008000\">'An Act Creating The Municipality Of Malay In The Province Of Capiz'</span>,\n",
       "    <span style=\"color: #808000; text-decoration-color: #808000\">description</span>=<span style=\"color: #008000; text-decoration-color: #008000\">'Republic Act No. 381'</span>,\n",
       "    <span style=\"color: #808000; text-decoration-color: #808000\">id</span>=<span style=\"color: #008000; text-decoration-color: #008000\">'ra-381-june-15-1949'</span>,\n",
       "    <span style=\"color: #808000; text-decoration-color: #808000\">emails</span>=<span style=\"font-weight: bold\">[</span><span style=\"color: #008000; text-decoration-color: #008000\">'bot@lawsql.com'</span><span style=\"font-weight: bold\">]</span>,\n",
       "    <span style=\"color: #808000; text-decoration-color: #808000\">date</span>=<span style=\"color: #800080; text-decoration-color: #800080; font-weight: bold\">datetime</span><span style=\"color: #800080; text-decoration-color: #800080; font-weight: bold\">.date</span><span style=\"font-weight: bold\">(</span><span style=\"color: #008080; text-decoration-color: #008080; font-weight: bold\">1949</span>, <span style=\"color: #008080; text-decoration-color: #008080; font-weight: bold\">6</span>, <span style=\"color: #008080; text-decoration-color: #008080; font-weight: bold\">15</span><span style=\"font-weight: bold\">)</span>,\n",
       "    <span style=\"color: #808000; text-decoration-color: #808000\">variant</span>=<span style=\"color: #008080; text-decoration-color: #008080; font-weight: bold\">1</span>,\n",
       "    <span style=\"color: #808000; text-decoration-color: #808000\">titles</span>=<span style=\"font-weight: bold\">[</span>\n",
       "        <span style=\"color: #800080; text-decoration-color: #800080; font-weight: bold\">StatuteTitle</span><span style=\"font-weight: bold\">(</span>\n",
       "            <span style=\"color: #808000; text-decoration-color: #808000\">statute_id</span>=<span style=\"color: #008000; text-decoration-color: #008000\">'ra-381-june-15-1949'</span>,\n",
       "            <span style=\"color: #808000; text-decoration-color: #808000\">category</span>=<span style=\"color: #008000; text-decoration-color: #008000\">'serial'</span>,\n",
       "            <span style=\"color: #808000; text-decoration-color: #808000\">text</span>=<span style=\"color: #008000; text-decoration-color: #008000\">'Republic Act No. 381'</span>\n",
       "        <span style=\"font-weight: bold\">)</span>,\n",
       "        <span style=\"color: #800080; text-decoration-color: #800080; font-weight: bold\">StatuteTitle</span><span style=\"font-weight: bold\">(</span>\n",
       "            <span style=\"color: #808000; text-decoration-color: #808000\">statute_id</span>=<span style=\"color: #008000; text-decoration-color: #008000\">'ra-381-june-15-1949'</span>,\n",
       "            <span style=\"color: #808000; text-decoration-color: #808000\">category</span>=<span style=\"color: #008000; text-decoration-color: #008000\">'official'</span>,\n",
       "            <span style=\"color: #808000; text-decoration-color: #808000\">text</span>=<span style=\"color: #008000; text-decoration-color: #008000\">'An Act Creating The Municipality Of Malay In The Province Of Capiz'</span>\n",
       "        <span style=\"font-weight: bold\">)</span>\n",
       "    <span style=\"font-weight: bold\">]</span>,\n",
       "    <span style=\"color: #808000; text-decoration-color: #808000\">units</span>=<span style=\"font-weight: bold\">[</span>\n",
       "        <span style=\"font-weight: bold\">{</span>\n",
       "            <span style=\"color: #008000; text-decoration-color: #008000\">'item'</span>: <span style=\"color: #008000; text-decoration-color: #008000\">'Section 1'</span>,\n",
       "            <span style=\"color: #008000; text-decoration-color: #008000\">'content'</span>: <span style=\"color: #008000; text-decoration-color: #008000\">'The barrio of Malay with all the surrounding barrios is hereby separated from the municipality of Buruanga, Province of Capiz, and created into a new and separate municipality to be known as the municipality of \"Malay\".'</span>\n",
       "        <span style=\"font-weight: bold\">}</span>,\n",
       "        <span style=\"font-weight: bold\">{</span>\n",
       "            <span style=\"color: #008000; text-decoration-color: #008000\">'item'</span>: <span style=\"color: #008000; text-decoration-color: #008000\">'Section 2'</span>,\n",
       "            <span style=\"color: #008000; text-decoration-color: #008000\">'content'</span>: <span style=\"color: #008000; text-decoration-color: #008000\">'The said new municipality of Malay shall include the following: Malay (poblacion, seat of local government) with the following barrios: Dumlog, Cabolihan, Balosbos, Maba-oy, Cubay Norte, Cubay Sur, Cogon, Argao, San Viray, Caticlan, Manoc Manoc, Balabag and Na-asog.'</span>\n",
       "        <span style=\"font-weight: bold\">}</span>,\n",
       "        <span style=\"font-weight: bold\">{</span>\n",
       "            <span style=\"color: #008000; text-decoration-color: #008000\">'item'</span>: <span style=\"color: #008000; text-decoration-color: #008000\">'Section 3'</span>,\n",
       "            <span style=\"color: #008000; text-decoration-color: #008000\">'content'</span>: <span style=\"color: #008000; text-decoration-color: #008000\">'The elective officials of the new municipality shall be appointed by the President of the Philippines to hold office until their successors are elected and qualified.'</span>\n",
       "        <span style=\"font-weight: bold\">}</span>,\n",
       "        <span style=\"font-weight: bold\">{</span><span style=\"color: #008000; text-decoration-color: #008000\">'item'</span>: <span style=\"color: #008000; text-decoration-color: #008000\">'Section 4'</span>, <span style=\"color: #008000; text-decoration-color: #008000\">'content'</span>: <span style=\"color: #008000; text-decoration-color: #008000\">'This Act shall take effect upon its approval.'</span><span style=\"font-weight: bold\">}</span>\n",
       "    <span style=\"font-weight: bold\">]</span>\n",
       "<span style=\"font-weight: bold\">)</span>\n",
       "</pre>\n"
      ],
      "text/plain": [
       "\n",
       "\u001b[1;35mStatuteDetails\u001b[0m\u001b[1m(\u001b[0m\n",
       "    \u001b[33mcreated\u001b[0m=\u001b[1;36m1663728655\u001b[0m\u001b[1;36m.7357123\u001b[0m,\n",
       "    \u001b[33mmodified\u001b[0m=\u001b[1;36m1663728655\u001b[0m\u001b[1;36m.7357123\u001b[0m,\n",
       "    \u001b[33mtitle\u001b[0m=\u001b[32m'An Act Creating The Municipality Of Malay In The Province Of Capiz'\u001b[0m,\n",
       "    \u001b[33mdescription\u001b[0m=\u001b[32m'Republic Act No. 381'\u001b[0m,\n",
       "    \u001b[33mid\u001b[0m=\u001b[32m'ra-381-june-15-1949'\u001b[0m,\n",
       "    \u001b[33memails\u001b[0m=\u001b[1m[\u001b[0m\u001b[32m'bot@lawsql.com'\u001b[0m\u001b[1m]\u001b[0m,\n",
       "    \u001b[33mdate\u001b[0m=\u001b[1;35mdatetime\u001b[0m\u001b[1;35m.date\u001b[0m\u001b[1m(\u001b[0m\u001b[1;36m1949\u001b[0m, \u001b[1;36m6\u001b[0m, \u001b[1;36m15\u001b[0m\u001b[1m)\u001b[0m,\n",
       "    \u001b[33mvariant\u001b[0m=\u001b[1;36m1\u001b[0m,\n",
       "    \u001b[33mtitles\u001b[0m=\u001b[1m[\u001b[0m\n",
       "        \u001b[1;35mStatuteTitle\u001b[0m\u001b[1m(\u001b[0m\n",
       "            \u001b[33mstatute_id\u001b[0m=\u001b[32m'ra-381-june-15-1949'\u001b[0m,\n",
       "            \u001b[33mcategory\u001b[0m=\u001b[32m'serial'\u001b[0m,\n",
       "            \u001b[33mtext\u001b[0m=\u001b[32m'Republic Act No. 381'\u001b[0m\n",
       "        \u001b[1m)\u001b[0m,\n",
       "        \u001b[1;35mStatuteTitle\u001b[0m\u001b[1m(\u001b[0m\n",
       "            \u001b[33mstatute_id\u001b[0m=\u001b[32m'ra-381-june-15-1949'\u001b[0m,\n",
       "            \u001b[33mcategory\u001b[0m=\u001b[32m'official'\u001b[0m,\n",
       "            \u001b[33mtext\u001b[0m=\u001b[32m'An Act Creating The Municipality Of Malay In The Province Of Capiz'\u001b[0m\n",
       "        \u001b[1m)\u001b[0m\n",
       "    \u001b[1m]\u001b[0m,\n",
       "    \u001b[33munits\u001b[0m=\u001b[1m[\u001b[0m\n",
       "        \u001b[1m{\u001b[0m\n",
       "            \u001b[32m'item'\u001b[0m: \u001b[32m'Section 1'\u001b[0m,\n",
       "            \u001b[32m'content'\u001b[0m: \u001b[32m'The barrio of Malay with all the surrounding barrios is hereby separated from the municipality of Buruanga, Province of Capiz, and created into a new and separate municipality to be known as the municipality of \"Malay\".'\u001b[0m\n",
       "        \u001b[1m}\u001b[0m,\n",
       "        \u001b[1m{\u001b[0m\n",
       "            \u001b[32m'item'\u001b[0m: \u001b[32m'Section 2'\u001b[0m,\n",
       "            \u001b[32m'content'\u001b[0m: \u001b[32m'The said new municipality of Malay shall include the following: Malay \u001b[0m\u001b[32m(\u001b[0m\u001b[32mpoblacion, seat of local government\u001b[0m\u001b[32m)\u001b[0m\u001b[32m with the following barrios: Dumlog, Cabolihan, Balosbos, Maba-oy, Cubay Norte, Cubay Sur, Cogon, Argao, San Viray, Caticlan, Manoc Manoc, Balabag and Na-asog.'\u001b[0m\n",
       "        \u001b[1m}\u001b[0m,\n",
       "        \u001b[1m{\u001b[0m\n",
       "            \u001b[32m'item'\u001b[0m: \u001b[32m'Section 3'\u001b[0m,\n",
       "            \u001b[32m'content'\u001b[0m: \u001b[32m'The elective officials of the new municipality shall be appointed by the President of the Philippines to hold office until their successors are elected and qualified.'\u001b[0m\n",
       "        \u001b[1m}\u001b[0m,\n",
       "        \u001b[1m{\u001b[0m\u001b[32m'item'\u001b[0m: \u001b[32m'Section 4'\u001b[0m, \u001b[32m'content'\u001b[0m: \u001b[32m'This Act shall take effect upon its approval.'\u001b[0m\u001b[1m}\u001b[0m\n",
       "    \u001b[1m]\u001b[0m\n",
       "\u001b[1m)\u001b[0m\n"
      ]
     },
     "metadata": {},
     "output_type": "display_data"
    }
   ],
   "source": [
    "r.get_details(STATUTE_PATH)"
   ]
  }
 ],
 "metadata": {
  "kernelspec": {
   "display_name": "Python 3.11.0 ('.venv': poetry)",
   "language": "python",
   "name": "python3"
  },
  "language_info": {
   "codemirror_mode": {
    "name": "ipython",
    "version": 3
   },
   "file_extension": ".py",
   "mimetype": "text/x-python",
   "name": "python",
   "nbconvert_exporter": "python",
   "pygments_lexer": "ipython3",
   "version": "3.11.0"
  },
  "orig_nbformat": 4,
  "vscode": {
   "interpreter": {
    "hash": "f64842d3af6374b09eb9796b9cace4dfa027b5166849e320c3f954ad57a9beb0"
   }
  }
 },
 "nbformat": 4,
 "nbformat_minor": 2
}
