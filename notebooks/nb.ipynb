{
 "cells": [
  {
   "cell_type": "code",
   "execution_count": 1,
   "metadata": {},
   "outputs": [],
   "source": [
    "%load_ext rich\n",
    "from pathlib import Path\n",
    "import yaml"
   ]
  },
  {
   "cell_type": "code",
   "execution_count": 2,
   "metadata": {},
   "outputs": [],
   "source": [
    "stat_folder = Path().home().joinpath(\"code/corpus/statutes/ra/386\")"
   ]
  },
  {
   "cell_type": "code",
   "execution_count": 3,
   "metadata": {},
   "outputs": [],
   "source": [
    "glob_stat = stat_folder.glob(\"details.yaml\")"
   ]
  },
  {
   "cell_type": "code",
   "execution_count": 4,
   "metadata": {},
   "outputs": [],
   "source": [
    "stat_detail = next(glob_stat)"
   ]
  },
  {
   "cell_type": "code",
   "execution_count": 5,
   "metadata": {},
   "outputs": [],
   "source": [
    "from statute_patterns import Rule, StatuteSerialCategory\n",
    "from statute_patterns.components import STATUTE_PATH\n",
    "r = Rule(cat=StatuteSerialCategory(stat_detail.parent.parent.stem), id=stat_detail.parent.stem)"
   ]
  },
  {
   "cell_type": "code",
   "execution_count": 6,
   "metadata": {},
   "outputs": [],
   "source": [
    "from statute_patterns import load_rule_data\n",
    "x = load_rule_data(r, STATUTE_PATH)"
   ]
  },
  {
   "cell_type": "code",
   "execution_count": 7,
   "metadata": {},
   "outputs": [
    {
     "data": {
      "text/html": [
       "<pre style=\"white-space:pre;overflow-x:auto;line-height:normal;font-family:Menlo,'DejaVu Sans Mono',consolas,'Courier New',monospace\">\n",
       "<span style=\"font-weight: bold\">[</span>\n",
       "    <span style=\"color: #800080; text-decoration-color: #800080; font-weight: bold\">StatuteTitle</span><span style=\"font-weight: bold\">(</span><span style=\"color: #808000; text-decoration-color: #808000\">statute_id</span>=<span style=\"color: #008000; text-decoration-color: #008000\">'ra-386-june-18-1949'</span>, <span style=\"color: #808000; text-decoration-color: #808000\">category</span>=<span style=\"color: #008000; text-decoration-color: #008000\">'alias'</span>, <span style=\"color: #808000; text-decoration-color: #808000\">text</span>=<span style=\"color: #008000; text-decoration-color: #008000\">'New Civil Code'</span><span style=\"font-weight: bold\">)</span>,\n",
       "    <span style=\"color: #800080; text-decoration-color: #800080; font-weight: bold\">StatuteTitle</span><span style=\"font-weight: bold\">(</span><span style=\"color: #808000; text-decoration-color: #808000\">statute_id</span>=<span style=\"color: #008000; text-decoration-color: #008000\">'ra-386-june-18-1949'</span>, <span style=\"color: #808000; text-decoration-color: #808000\">category</span>=<span style=\"color: #008000; text-decoration-color: #008000\">'alias'</span>, <span style=\"color: #808000; text-decoration-color: #808000\">text</span>=<span style=\"color: #008000; text-decoration-color: #008000\">'Civil Code of 1950'</span><span style=\"font-weight: bold\">)</span>,\n",
       "    <span style=\"color: #800080; text-decoration-color: #800080; font-weight: bold\">StatuteTitle</span><span style=\"font-weight: bold\">(</span><span style=\"color: #808000; text-decoration-color: #808000\">statute_id</span>=<span style=\"color: #008000; text-decoration-color: #008000\">'ra-386-june-18-1949'</span>, <span style=\"color: #808000; text-decoration-color: #808000\">category</span>=<span style=\"color: #008000; text-decoration-color: #008000\">'serial'</span>, <span style=\"color: #808000; text-decoration-color: #808000\">text</span>=<span style=\"color: #008000; text-decoration-color: #008000\">'Republic Act No. 386'</span><span style=\"font-weight: bold\">)</span>,\n",
       "    <span style=\"color: #800080; text-decoration-color: #800080; font-weight: bold\">StatuteTitle</span><span style=\"font-weight: bold\">(</span>\n",
       "        <span style=\"color: #808000; text-decoration-color: #808000\">statute_id</span>=<span style=\"color: #008000; text-decoration-color: #008000\">'ra-386-june-18-1949'</span>,\n",
       "        <span style=\"color: #808000; text-decoration-color: #808000\">category</span>=<span style=\"color: #008000; text-decoration-color: #008000\">'official'</span>,\n",
       "        <span style=\"color: #808000; text-decoration-color: #808000\">text</span>=<span style=\"color: #008000; text-decoration-color: #008000\">'An Act to Ordain and Institute the Civil Code of the Philippines'</span>\n",
       "    <span style=\"font-weight: bold\">)</span>\n",
       "<span style=\"font-weight: bold\">]</span>\n",
       "</pre>\n"
      ],
      "text/plain": [
       "\n",
       "\u001b[1m[\u001b[0m\n",
       "    \u001b[1;35mStatuteTitle\u001b[0m\u001b[1m(\u001b[0m\u001b[33mstatute_id\u001b[0m=\u001b[32m'ra-386-june-18-1949'\u001b[0m, \u001b[33mcategory\u001b[0m=\u001b[32m'alias'\u001b[0m, \u001b[33mtext\u001b[0m=\u001b[32m'New Civil Code'\u001b[0m\u001b[1m)\u001b[0m,\n",
       "    \u001b[1;35mStatuteTitle\u001b[0m\u001b[1m(\u001b[0m\u001b[33mstatute_id\u001b[0m=\u001b[32m'ra-386-june-18-1949'\u001b[0m, \u001b[33mcategory\u001b[0m=\u001b[32m'alias'\u001b[0m, \u001b[33mtext\u001b[0m=\u001b[32m'Civil Code of 1950'\u001b[0m\u001b[1m)\u001b[0m,\n",
       "    \u001b[1;35mStatuteTitle\u001b[0m\u001b[1m(\u001b[0m\u001b[33mstatute_id\u001b[0m=\u001b[32m'ra-386-june-18-1949'\u001b[0m, \u001b[33mcategory\u001b[0m=\u001b[32m'serial'\u001b[0m, \u001b[33mtext\u001b[0m=\u001b[32m'Republic Act No. 386'\u001b[0m\u001b[1m)\u001b[0m,\n",
       "    \u001b[1;35mStatuteTitle\u001b[0m\u001b[1m(\u001b[0m\n",
       "        \u001b[33mstatute_id\u001b[0m=\u001b[32m'ra-386-june-18-1949'\u001b[0m,\n",
       "        \u001b[33mcategory\u001b[0m=\u001b[32m'official'\u001b[0m,\n",
       "        \u001b[33mtext\u001b[0m=\u001b[32m'An Act to Ordain and Institute the Civil Code of the Philippines'\u001b[0m\n",
       "    \u001b[1m)\u001b[0m\n",
       "\u001b[1m]\u001b[0m\n"
      ]
     },
     "metadata": {},
     "output_type": "display_data"
    }
   ],
   "source": [
    "x.get(\"titles\")"
   ]
  }
 ],
 "metadata": {
  "kernelspec": {
   "display_name": "Python 3.11.0 ('.venv': poetry)",
   "language": "python",
   "name": "python3"
  },
  "language_info": {
   "codemirror_mode": {
    "name": "ipython",
    "version": 3
   },
   "file_extension": ".py",
   "mimetype": "text/x-python",
   "name": "python",
   "nbconvert_exporter": "python",
   "pygments_lexer": "ipython3",
   "version": "3.11.0"
  },
  "orig_nbformat": 4,
  "vscode": {
   "interpreter": {
    "hash": "5035e01bc373a8f543aaf0d7fc565de8b670861c29232452e1730af6ed4e0583"
   }
  }
 },
 "nbformat": 4,
 "nbformat_minor": 2
}
