{
 "cells": [
  {
   "cell_type": "code",
   "execution_count": 1,
   "metadata": {},
   "outputs": [
    {
     "name": "stderr",
     "output_type": "stream",
     "text": [
      "/Users/mv/Code/statute-patterns/.venv/lib/python3.11/site-packages/pydantic/_internal/_config.py:200: DeprecationWarning: Support for class-based `config` is deprecated, use ConfigDict instead.\n",
      "  warnings.warn(DEPRECATION_MESSAGE, DeprecationWarning)\n"
     ]
    }
   ],
   "source": [
    "from pathlib import Path\n",
    "from statute_patterns import Rule, StatuteSerialCategory, StatuteDetails\n",
    "from statute_patterns.components import STATUTE_PATH, DETAILS_FILE\n",
    "test_stat_path = Path().cwd().joinpath(\"tests/data/statutes\")\n",
    "main_stat_path = Path().home().joinpath(\"code/corpus/statutes\")\n",
    "a = test_stat_path.glob(\"rule_am/*-sc*\")\n",
    "b = test_stat_path.glob(\"ra/386\")"
   ]
  },
  {
   "cell_type": "code",
   "execution_count": 3,
   "metadata": {},
   "outputs": [],
   "source": [
    "#civil_code = \"ra/386/details.yaml\"\n",
    "#pd_test = \"pd/1069/details.yaml\"\n",
    "#commerce = \"spain/commerce/details.yaml\"\n",
    "all_statutes = '**/details.yaml'\n",
    "for d in main_stat_path.glob(all_statutes):\n",
    "  StatuteDetails.from_rule(rule=Rule.from_path(d)).export()"
   ]
  }
 ],
 "metadata": {
  "kernelspec": {
   "display_name": "Python 3.11.0 ('.venv': poetry)",
   "language": "python",
   "name": "python3"
  },
  "language_info": {
   "codemirror_mode": {
    "name": "ipython",
    "version": 3
   },
   "file_extension": ".py",
   "mimetype": "text/x-python",
   "name": "python",
   "nbconvert_exporter": "python",
   "pygments_lexer": "ipython3",
   "version": "3.11.4"
  },
  "orig_nbformat": 4,
  "vscode": {
   "interpreter": {
    "hash": "e5ec48e2e09a715a28261145eaf64b5a3ce5920fb590588b7f14d160491138cf"
   }
  }
 },
 "nbformat": 4,
 "nbformat_minor": 2
}
