{
 "cells": [
  {
   "cell_type": "code",
   "execution_count": 1,
   "metadata": {},
   "outputs": [
    {
     "name": "stderr",
     "output_type": "stream",
     "text": [
      "/Users/mv/Code/statute-patterns/.venv/lib/python3.11/site-packages/pydantic/_internal/_config.py:200: DeprecationWarning: Support for class-based `config` is deprecated, use ConfigDict instead.\n",
      "  warnings.warn(DEPRECATION_MESSAGE, DeprecationWarning)\n"
     ]
    },
    {
     "name": "stderr",
     "output_type": "stream",
     "text": [
      "Executing <Task pending name='Task-4' coro=<Kernel.dispatch_queue() running at /Users/mv/Code/statute-patterns/.venv/lib/python3.11/site-packages/ipykernel/kernelbase.py:513> wait_for=<Future pending cb=[Task.task_wakeup()] created at /Users/mv/Code/statute-patterns/.venv/lib/python3.11/site-packages/tornado/queues.py:248> cb=[IOLoop.add_future.<locals>.<lambda>() at /Users/mv/Code/statute-patterns/.venv/lib/python3.11/site-packages/tornado/ioloop.py:685] created at /Users/mv/.pyenv/versions/3.11.4/lib/python3.11/asyncio/tasks.py:670> took 0.192 seconds\n"
     ]
    }
   ],
   "source": [
    "from pathlib import Path\n",
    "from statute_patterns import Rule, StatuteSerialCategory, StatuteDetails\n",
    "from statute_patterns.components import STATUTE_PATH, DETAILS_FILE\n",
    "test_stat_path = Path().cwd().joinpath(\"tests/data/statutes\")\n",
    "main_stat_path = Path().home().joinpath(\"code/corpus/statutes\")\n",
    "a = test_stat_path.glob(\"ra/386\")"
   ]
  },
  {
   "cell_type": "code",
   "execution_count": 5,
   "metadata": {},
   "outputs": [
    {
     "data": {
      "text/plain": [
       "PosixPath('/Users/mv/Code/statute-patterns/tests/data/statutes/ra/386')"
      ]
     },
     "execution_count": 5,
     "metadata": {},
     "output_type": "execute_result"
    }
   ],
   "source": [
    "test_path = next(a)\n",
    "test_path"
   ]
  },
  {
   "cell_type": "code",
   "execution_count": 8,
   "metadata": {},
   "outputs": [],
   "source": [
    "obj = Rule.from_path(test_path / DETAILS_FILE)"
   ]
  },
  {
   "cell_type": "code",
   "execution_count": 9,
   "metadata": {},
   "outputs": [],
   "source": [
    "from statute_patterns import StatuteDetails\n",
    "s = StatuteDetails.from_rule(rule=obj, base_path=test_stat_path)"
   ]
  },
  {
   "cell_type": "code",
   "execution_count": 12,
   "metadata": {},
   "outputs": [
    {
     "data": {
      "text/plain": [
       "StatuteDetails(created=1687224671.182518, modified=1687224671.182518, rule=Rule(cat=<StatuteSerialCategory.RepublicAct: 'ra'>, id='386'), title='Republic Act No. 386', description='An Act to Ordain and Institute the Civil Code of the Philippines', id='ra-386-june-18-1949', emails=['maria@abcxyz.law', 'fernando@abcxyz.law'], date=datetime.date(1949, 6, 18), variant=1, titles=[StatuteTitle(statute_id='ra-386-june-18-1949', category=<StatuteTitleCategory.Alias: 'alias'>, text='New Civil Code'), StatuteTitle(statute_id='ra-386-june-18-1949', category=<StatuteTitleCategory.Alias: 'alias'>, text='Civil Code of 1950'), StatuteTitle(statute_id='ra-386-june-18-1949', category=<StatuteTitleCategory.Short: 'short'>, text='Civil Code of the Philippines'), StatuteTitle(statute_id='ra-386-june-18-1949', category=<StatuteTitleCategory.Serial: 'serial'>, text='Republic Act No. 386'), StatuteTitle(statute_id='ra-386-june-18-1949', category=<StatuteTitleCategory.Official: 'official'>, text='An Act to Ordain and Institute the Civil Code of the Philippines')], units=[{'item': 'Container 1', 'caption': 'Preliminary Title', 'units': [{'item': 'Chapter 1', 'caption': 'Effect and Application of Laws', 'units': [{'item': 'Article 1', 'content': 'This Act shall be known as the \"Civil Code of the Philippines.\" (n)\\n'}, {'item': 'Article 2', 'content': 'Laws shall take effect after fifteen days following the completion of their publication either in the Official Gazette or in a newspaper of general circulation in the Philippines, unless it is otherwise provided. (1a)\\n'}]}]}])"
      ]
     },
     "execution_count": 12,
     "metadata": {},
     "output_type": "execute_result"
    }
   ],
   "source": [
    "s"
   ]
  },
  {
   "cell_type": "code",
   "execution_count": 7,
   "metadata": {},
   "outputs": [
    {
     "data": {
      "text/plain": [
       "Rule(cat=<StatuteSerialCategory.RepublicAct: 'ra'>, id='386')"
      ]
     },
     "execution_count": 7,
     "metadata": {},
     "output_type": "execute_result"
    }
   ],
   "source": [
    "obj"
   ]
  },
  {
   "cell_type": "code",
   "execution_count": null,
   "metadata": {},
   "outputs": [],
   "source": [
    "list(obj.extract_folders(test_path))"
   ]
  },
  {
   "cell_type": "code",
   "execution_count": 2,
   "metadata": {},
   "outputs": [],
   "source": [
    "r = Rule(cat=StatuteSerialCategory(\"roc\"), id=\"1964\")"
   ]
  },
  {
   "cell_type": "code",
   "execution_count": 3,
   "metadata": {},
   "outputs": [],
   "source": [
    "folders = list(r.extract_folders(STATUTE_PATH))"
   ]
  },
  {
   "cell_type": "code",
   "execution_count": 4,
   "metadata": {},
   "outputs": [
    {
     "data": {
      "text/plain": [
       "[PosixPath('/Users/mv/code/corpus/statutes/roc/1964')]"
      ]
     },
     "execution_count": 4,
     "metadata": {},
     "output_type": "execute_result"
    }
   ],
   "source": [
    "folders"
   ]
  },
  {
   "cell_type": "code",
   "execution_count": null,
   "metadata": {},
   "outputs": [],
   "source": [
    "[Rule.get_details(folder / DETAILS_FILE) for folder in r.extract_folders(main_stat_path)]"
   ]
  },
  {
   "cell_type": "code",
   "execution_count": null,
   "metadata": {},
   "outputs": [],
   "source": [
    "x = Rule.get_details(t)"
   ]
  }
 ],
 "metadata": {
  "kernelspec": {
   "display_name": "Python 3.11.0 ('.venv': poetry)",
   "language": "python",
   "name": "python3"
  },
  "language_info": {
   "codemirror_mode": {
    "name": "ipython",
    "version": 3
   },
   "file_extension": ".py",
   "mimetype": "text/x-python",
   "name": "python",
   "nbconvert_exporter": "python",
   "pygments_lexer": "ipython3",
   "version": "3.11.4"
  },
  "orig_nbformat": 4,
  "vscode": {
   "interpreter": {
    "hash": "e5ec48e2e09a715a28261145eaf64b5a3ce5920fb590588b7f14d160491138cf"
   }
  }
 },
 "nbformat": 4,
 "nbformat_minor": 2
}
