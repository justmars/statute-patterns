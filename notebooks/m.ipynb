{
  "cells": [
    {
      "cell_type": "code",
      "execution_count": 1,
      "metadata": {},
      "outputs": [],
      "source": [
        "%load_ext rich\n",
        "import re\n",
        "from rich.syntax import Syntax\n",
        "from statute_patterns import StatuteCategory\n",
        "from statute_patterns.names import NamedRules\n",
        "from statute_patterns import extract_rules, count_rules, extract_rule\n",
        "from statute_patterns.serials import SerializedRules\n",
        "#Syntax(civ1950.regex, \"python\")"
      ]
    }
  ],
  "metadata": {
    "kernelspec": {
      "display_name": "Python 3.10.6 ('.venv': poetry)",
      "language": "python",
      "name": "python3"
    },
    "language_info": {
      "codemirror_mode": {
        "name": "ipython",
        "version": 3
      },
      "file_extension": ".py",
      "mimetype": "text/x-python",
      "name": "python",
      "nbconvert_exporter": "python",
      "pygments_lexer": "ipython3",
      "version": "3.11.0"
    },
    "orig_nbformat": 4,
    "vscode": {
      "interpreter": {
        "hash": "ebda6fe87619a368638ad9953ba5fb3ab442aae3cfc5867f4aa0e360ce98c828"
      }
    }
  },
  "nbformat": 4,
  "nbformat_minor": 2
}
