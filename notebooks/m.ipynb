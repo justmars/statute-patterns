{
  "cells": [
    {
      "cell_type": "code",
      "execution_count": 1,
      "metadata": {},
      "outputs": [],
      "source": [
        "%load_ext rich\n",
        "import re\n",
        "from rich.syntax import Syntax\n",
        "from statute_patterns import StatuteSerialCategory, Rule\n",
        "from statute_patterns.names import NamedRules\n",
        "from statute_patterns import extract_rules, count_rules, extract_rule\n",
        "from statute_patterns.serials import SerializedRules\n",
        "#Syntax(civ1950.regex, \"python\")"
      ]
    },
    {
      "cell_type": "code",
      "execution_count": null,
      "metadata": {},
      "outputs": [],
      "source": [
        "Rule"
      ]
    }
  ],
  "metadata": {
    "kernelspec": {
      "display_name": "Python 3.11.0 ('.venv': poetry)",
      "language": "python",
      "name": "python3"
    },
    "language_info": {
      "codemirror_mode": {
        "name": "ipython",
        "version": 3
      },
      "file_extension": ".py",
      "mimetype": "text/x-python",
      "name": "python",
      "nbconvert_exporter": "python",
      "pygments_lexer": "ipython3",
      "version": "3.11.0"
    },
    "orig_nbformat": 4,
    "vscode": {
      "interpreter": {
        "hash": "5035e01bc373a8f543aaf0d7fc565de8b670861c29232452e1730af6ed4e0583"
      }
    }
  },
  "nbformat": 4,
  "nbformat_minor": 2
}
