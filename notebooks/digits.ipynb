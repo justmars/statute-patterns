{
 "cells": [
  {
   "cell_type": "code",
   "execution_count": 1,
   "metadata": {},
   "outputs": [],
   "source": [
    "import re\n",
    "from statute_patterns.recipes import RA_DIGITS, digitize"
   ]
  },
  {
   "cell_type": "code",
   "execution_count": 2,
   "metadata": {},
   "outputs": [
    {
     "name": "stderr",
     "output_type": "stream",
     "text": [
      "Executing <Task pending name='Task-4' coro=<Kernel.dispatch_queue() running at /Users/mv/Code/statute-patterns/.venv/lib/python3.11/site-packages/ipykernel/kernelbase.py:513> wait_for=<Future pending cb=[Task.task_wakeup()] created at /Users/mv/Code/statute-patterns/.venv/lib/python3.11/site-packages/tornado/queues.py:248> cb=[IOLoop.add_future.<locals>.<lambda>() at /Users/mv/Code/statute-patterns/.venv/lib/python3.11/site-packages/tornado/ioloop.py:685] created at /Users/mv/.pyenv/versions/3.11.4/lib/python3.11/asyncio/tasks.py:670> took 0.157 seconds\n"
     ]
    },
    {
     "data": {
      "text/plain": [
       "<re.Match object; span=(1, 6), match='11111'>"
      ]
     },
     "execution_count": 2,
     "metadata": {},
     "output_type": "execute_result"
    }
   ],
   "source": [
    "re.search(fr\"({RA_DIGITS})(?!\\d)\", \"111111\")"
   ]
  },
  {
   "cell_type": "code",
   "execution_count": 3,
   "metadata": {},
   "outputs": [
    {
     "data": {
      "text/plain": [
       "<re.Match object; span=(0, 17), match='1, 325, and 11111'>"
      ]
     },
     "execution_count": 3,
     "metadata": {},
     "output_type": "execute_result"
    }
   ],
   "source": [
    "re.fullmatch(digitize(RA_DIGITS), \"1, 325, and 11111\")"
   ]
  },
  {
   "cell_type": "code",
   "execution_count": 4,
   "metadata": {},
   "outputs": [],
   "source": [
    "from statute_patterns.serials import ra\n",
    "ra.pattern.fullmatch(\"Republic Act Nos. 124, 325, and 111111\")"
   ]
  },
  {
   "cell_type": "code",
   "execution_count": 5,
   "metadata": {},
   "outputs": [
    {
     "data": {
      "text/plain": [
       "'(?:(?:(?:[1-2]\\\\d{1,4})|(?:[1-9]\\\\d{1,3})|(?:[1-9]))(,|\\\\s+|(\\\\sand\\\\s))+)*(?:(?:(?:[1-2]\\\\d{1,4})|(?:[1-9]\\\\d{1,3})|(?:[1-9])))'"
      ]
     },
     "execution_count": 5,
     "metadata": {},
     "output_type": "execute_result"
    }
   ],
   "source": [
    "digitize(RA_DIGITS)"
   ]
  },
  {
   "cell_type": "code",
   "execution_count": 6,
   "metadata": {},
   "outputs": [],
   "source": [
    "p = re.compile(digitize(RA_DIGITS))"
   ]
  },
  {
   "cell_type": "code",
   "execution_count": 7,
   "metadata": {},
   "outputs": [
    {
     "data": {
      "text/plain": [
       "<re.Match object; span=(31, 35), match='9337'>"
      ]
     },
     "execution_count": 7,
     "metadata": {},
     "output_type": "execute_result"
    }
   ],
   "source": [
    "p.search(\"As amended by Republic Act No. 9337\")"
   ]
  },
  {
   "cell_type": "code",
   "execution_count": 8,
   "metadata": {},
   "outputs": [],
   "source": [
    "ra.validate_matches()"
   ]
  },
  {
   "cell_type": "code",
   "execution_count": 9,
   "metadata": {},
   "outputs": [
    {
     "data": {
      "text/plain": [
       "['1067-A']"
      ]
     },
     "execution_count": 9,
     "metadata": {},
     "output_type": "execute_result"
    }
   ],
   "source": [
    "from pathlib import Path\n",
    "[a.stem.upper() for a in Path().home().joinpath(\"code/corpus/statutes/pd\").glob(\"*-[abc]/\")]"
   ]
  }
 ],
 "metadata": {
  "kernelspec": {
   "display_name": "Python 3.11.0 ('.venv': poetry)",
   "language": "python",
   "name": "python3"
  },
  "language_info": {
   "codemirror_mode": {
    "name": "ipython",
    "version": 3
   },
   "file_extension": ".py",
   "mimetype": "text/x-python",
   "name": "python",
   "nbconvert_exporter": "python",
   "pygments_lexer": "ipython3",
   "version": "3.11.4"
  },
  "orig_nbformat": 4,
  "vscode": {
   "interpreter": {
    "hash": "5035e01bc373a8f543aaf0d7fc565de8b670861c29232452e1730af6ed4e0583"
   }
  }
 },
 "nbformat": 4,
 "nbformat_minor": 2
}
