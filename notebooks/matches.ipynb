{
  "cells": [
    {
      "cell_type": "code",
      "execution_count": 1,
      "metadata": {},
      "outputs": [],
      "source": [
        "%load_ext rich\n",
        "import re\n",
        "from rich.syntax import Syntax\n",
        "from statute_patterns import StatuteSerialCategory, Rule\n",
        "from statute_patterns.names import NamedRules\n",
        "from statute_patterns import extract_rules, count_rules, extract_rule\n",
        "from statute_patterns.serials import SerializedRules\n",
        "#Syntax(civ1950.regex, \"python\")"
      ]
    },
    {
      "cell_type": "code",
      "execution_count": 2,
      "metadata": {},
      "outputs": [
        {
          "data": {
            "text/html": [
              "<pre style=\"white-space:pre;overflow-x:auto;line-height:normal;font-family:Menlo,'DejaVu Sans Mono',consolas,'Courier New',monospace\"><span style=\"font-weight: bold\">[</span><span style=\"color: #800080; text-decoration-color: #800080; font-weight: bold\">Rule</span><span style=\"font-weight: bold\">(</span><span style=\"color: #808000; text-decoration-color: #808000\">cat</span>=<span style=\"color: #008000; text-decoration-color: #008000\">'roc'</span>, <span style=\"color: #808000; text-decoration-color: #808000\">id</span>=<span style=\"color: #008000; text-decoration-color: #008000\">'cpr'</span><span style=\"font-weight: bold\">)]</span>\n",
              "</pre>\n"
            ],
            "text/plain": [
              "\u001b[1m[\u001b[0m\u001b[1;35mRule\u001b[0m\u001b[1m(\u001b[0m\u001b[33mcat\u001b[0m=\u001b[32m'roc'\u001b[0m, \u001b[33mid\u001b[0m=\u001b[32m'cpr'\u001b[0m\u001b[1m)\u001b[0m\u001b[1m]\u001b[0m\n"
            ]
          },
          "metadata": {},
          "output_type": "display_data"
        }
      ],
      "source": [
        "list(extract_rules(\"The Code of Professional Responsibility is X\"))"
      ]
    },
    {
      "cell_type": "code",
      "execution_count": 3,
      "metadata": {},
      "outputs": [
        {
          "data": {
            "text/html": [
              "<pre style=\"white-space:pre;overflow-x:auto;line-height:normal;font-family:Menlo,'DejaVu Sans Mono',consolas,'Courier New',monospace\"><span style=\"color: #800080; text-decoration-color: #800080; font-weight: bold\">Rule</span><span style=\"font-weight: bold\">(</span><span style=\"color: #808000; text-decoration-color: #808000\">cat</span>=<span style=\"color: #008000; text-decoration-color: #008000\">'veto'</span>, <span style=\"color: #808000; text-decoration-color: #808000\">id</span>=<span style=\"color: #008000; text-decoration-color: #008000\">'11534'</span><span style=\"font-weight: bold\">)</span>\n",
              "</pre>\n"
            ],
            "text/plain": [
              "\u001b[1;35mRule\u001b[0m\u001b[1m(\u001b[0m\u001b[33mcat\u001b[0m=\u001b[32m'veto'\u001b[0m, \u001b[33mid\u001b[0m=\u001b[32m'11534'\u001b[0m\u001b[1m)\u001b[0m\n"
            ]
          },
          "metadata": {},
          "output_type": "display_data"
        }
      ],
      "source": [
        "extract_rule(\"Veto Message - 11534\")"
      ]
    }
  ],
  "metadata": {
    "kernelspec": {
      "display_name": "Python 3.11.0 ('.venv': poetry)",
      "language": "python",
      "name": "python3"
    },
    "language_info": {
      "codemirror_mode": {
        "name": "ipython",
        "version": 3
      },
      "file_extension": ".py",
      "mimetype": "text/x-python",
      "name": "python",
      "nbconvert_exporter": "python",
      "pygments_lexer": "ipython3",
      "version": "3.11.0"
    },
    "orig_nbformat": 4,
    "vscode": {
      "interpreter": {
        "hash": "5035e01bc373a8f543aaf0d7fc565de8b670861c29232452e1730af6ed4e0583"
      }
    }
  },
  "nbformat": 4,
  "nbformat_minor": 2
}
